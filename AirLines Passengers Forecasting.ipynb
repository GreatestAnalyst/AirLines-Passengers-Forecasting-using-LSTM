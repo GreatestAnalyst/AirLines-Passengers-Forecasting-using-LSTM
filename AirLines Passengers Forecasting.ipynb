{
 "cells": [
  {
   "cell_type": "markdown",
   "metadata": {},
   "source": [
    "The necessary python libraries are imported here-"
   ]
  },
  {
   "cell_type": "code",
   "execution_count": 1,
   "metadata": {},
   "outputs": [],
   "source": [
    "import numpy as np\n",
    "import matplotlib.pyplot as plt\n",
    "import pandas as pd\n",
    "from tensorflow.keras.models import Sequential\n",
    "from tensorflow.keras.layers import Dense, LSTM\n",
    "from sklearn.preprocessing import MinMaxScaler\n",
    "%matplotlib inline"
   ]
  },
  {
   "cell_type": "markdown",
   "metadata": {},
   "source": [
    "Now we will read the dataset using **read.csv()**. We will only retain the **passengers** column from the dataset and **reshape** it by converting it into a **numpy array**."
   ]
  },
  {
   "cell_type": "code",
   "execution_count": 53,
   "metadata": {},
   "outputs": [
    {
     "data": {
      "text/plain": [
       "array([[112],\n",
       "       [118],\n",
       "       [132],\n",
       "       [129],\n",
       "       [121],\n",
       "       [135],\n",
       "       [148],\n",
       "       [148],\n",
       "       [136],\n",
       "       [119]], dtype=int64)"
      ]
     },
     "execution_count": 53,
     "metadata": {},
     "output_type": "execute_result"
    }
   ],
   "source": [
    "dataset = pd.read_csv('AirPassengers.csv')\n",
    "dataset = dataset['#Passengers']\n",
    "dataset = np.array(dataset).reshape(-1,1)\n",
    "dataset[:10]"
   ]
  },
  {
   "cell_type": "markdown",
   "metadata": {},
   "source": [
    "Now we will plot the dataset. We can observe that the number of passengers has increased linearly."
   ]
  },
  {
   "cell_type": "code",
   "execution_count": 54,
   "metadata": {},
   "outputs": [
    {
     "data": {
      "text/plain": [
       "[<matplotlib.lines.Line2D at 0x195b09cb910>]"
      ]
     },
     "execution_count": 54,
     "metadata": {},
     "output_type": "execute_result"
    },
    {
     "data": {
      "image/png": "[encoded data removed]",
      "text/plain": [
       "<Figure size 432x288 with 1 Axes>"
      ]
     },
     "metadata": {
      "needs_background": "light"
     },
     "output_type": "display_data"
    }
   ],
   "source": [
    "plt.plot(dataset)"
   ]
  },
  {
   "cell_type": "markdown",
   "metadata": {},
   "source": [
    "Neural networks work better if inputs are between 0 and 1. So we are going to scale down the inputs using **MinMaxScaler()**. We can see that after scaling the minimum value is 0 and maximum value is 1."
   ]
  },
  {
   "cell_type": "code",
   "execution_count": 55,
   "metadata": {},
   "outputs": [
    {
     "data": {
      "text/plain": [
       "(0.0, 1.0)"
      ]
     },
     "execution_count": 55,
     "metadata": {},
     "output_type": "execute_result"
    }
   ],
   "source": [
    "scaler = MinMaxScaler()\n",
    "dataset = scaler.fit_transform(dataset)\n",
    "dataset.min(),dataset.max()"
   ]
  },
  {
   "cell_type": "markdown",
   "metadata": {},
   "source": [
    "We are going to use the data of first **100 months** as **training data** and the last **44 months** as **testing data**."
   ]
  },
  {
   "cell_type": "code",
   "execution_count": 56,
   "metadata": {},
   "outputs": [
    {
     "data": {
      "text/plain": [
       "(100, 1)"
      ]
     },
     "execution_count": 56,
     "metadata": {},
     "output_type": "execute_result"
    }
   ],
   "source": [
    "train_size = 100\n",
    "test_size = 44\n",
    "train = dataset[0:train_size, :]\n",
    "train.shape"
   ]
  },
  {
   "cell_type": "code",
   "execution_count": 57,
   "metadata": {},
   "outputs": [
    {
     "data": {
      "text/plain": [
       "(44, 1)"
      ]
     },
     "execution_count": 57,
     "metadata": {},
     "output_type": "execute_result"
    }
   ],
   "source": [
    "test = dataset[train_size:144, :]\n",
    "test.shape"
   ]
  },
  {
   "cell_type": "markdown",
   "metadata": {},
   "source": [
    "### Create training and testing dataset\n",
    "We are going to predict the (i)th value in the dataset on the basis of (i-1)th value. That means we are going to look back by 1 to predict the next value. Hence we are creating a function **get_data()** to create **dataX** and **dataY** for the **training** as well as the **testing** data."
   ]
  },
  {
   "cell_type": "code",
   "execution_count": 58,
   "metadata": {},
   "outputs": [
    {
     "data": {
      "text/plain": [
       "array([[0.01544402],\n",
       "       [0.02702703],\n",
       "       [0.05405405],\n",
       "       [0.04826255],\n",
       "       [0.03281853],\n",
       "       [0.05984556],\n",
       "       [0.08494208],\n",
       "       [0.08494208],\n",
       "       [0.06177606],\n",
       "       [0.02895753]])"
      ]
     },
     "execution_count": 58,
     "metadata": {},
     "output_type": "execute_result"
    }
   ],
   "source": [
    "def get_data(dataset, look_back):\n",
    "    dataX, dataY = [], []\n",
    "    for i in range(len(dataset)-look_back-1):\n",
    "        a = dataset[i:(i+look_back), 0]\n",
    "        dataX.append(a)\n",
    "        dataY.append(dataset[i+look_back, 0])\n",
    "    return np.array(dataX), np.array(dataY)\n",
    "\n",
    "look_back = 1\n",
    "X_train, y_train = get_data(train, look_back)\n",
    "X_train[:10]"
   ]
  },
  {
   "cell_type": "code",
   "execution_count": 59,
   "metadata": {},
   "outputs": [
    {
     "data": {
      "text/plain": [
       "array([0.02702703, 0.05405405, 0.04826255, 0.03281853, 0.05984556,\n",
       "       0.08494208, 0.08494208, 0.06177606, 0.02895753, 0.        ])"
      ]
     },
     "execution_count": 59,
     "metadata": {},
     "output_type": "execute_result"
    }
   ],
   "source": [
    "y_train[:10]"
   ]
  },
  {
   "cell_type": "markdown",
   "metadata": {},
   "source": [
    "Now we have called **get_data()** to create the **testing data**."
   ]
  },
  {
   "cell_type": "code",
   "execution_count": 60,
   "metadata": {},
   "outputs": [],
   "source": [
    "X_test, y_test = get_data(test, look_back)"
   ]
  },
  {
   "cell_type": "code",
   "execution_count": 61,
   "metadata": {},
   "outputs": [
    {
     "data": {
      "text/plain": [
       "((98, 1), (42, 1), (98,), (42,))"
      ]
     },
     "execution_count": 61,
     "metadata": {},
     "output_type": "execute_result"
    }
   ],
   "source": [
    "X_train.shape, X_test.shape, y_train.shape, y_test.shape"
   ]
  },
  {
   "cell_type": "markdown",
   "metadata": {},
   "source": [
    "Now we are going to reshape our data and make it 3 dimensional using **reshape()** to make it compatible with LSTM."
   ]
  },
  {
   "cell_type": "code",
   "execution_count": 62,
   "metadata": {},
   "outputs": [],
   "source": [
    "X_train = X_train.reshape(X_train.shape[0], X_train.shape[1], 1)\n",
    "X_test = X_test.reshape(X_test.shape[0], X_test.shape[1], 1)"
   ]
  },
  {
   "cell_type": "code",
   "execution_count": 63,
   "metadata": {},
   "outputs": [
    {
     "data": {
      "text/plain": [
       "(98, 1, 1)"
      ]
     },
     "execution_count": 63,
     "metadata": {},
     "output_type": "execute_result"
    }
   ],
   "source": [
    "X_train.shape"
   ]
  },
  {
   "cell_type": "markdown",
   "metadata": {},
   "source": [
    "## Build the model\n",
    "Our sequential model has 2 layers\n",
    "\n",
    "### LSTM layer:\n",
    "This is the main layer of the model and has **5 units**. It learns long-term dependencies between time steps in time series and sequence data. **input_shape** contains the shape of input which we have to pass as a parameter to the first layer of our neural network.\n",
    "\n",
    "### Dense layer:\n",
    "Dense layer is the regular deeply connected neural network layer. It is most common and frequently used layer. We have number of **units** as 1 because we are going to get a single value as the output."
   ]
  },
  {
   "cell_type": "code",
   "execution_count": 64,
   "metadata": {
    "scrolled": true
   },
   "outputs": [],
   "source": [
    "model = Sequential()\n",
    "model.add(LSTM(5, input_shape = (1, look_back)))\n",
    "model.add(Dense(1))\n",
    "model.compile(loss = 'mean_squared_error', optimizer = 'adam')"
   ]
  },
  {
   "cell_type": "markdown",
   "metadata": {},
   "source": [
    "We have compliled the model. We can see the summary using **model.summary()**."
   ]
  },
  {
   "cell_type": "code",
   "execution_count": 65,
   "metadata": {},
   "outputs": [
    {
     "name": "stdout",
     "output_type": "stream",
     "text": [
      "Model: \"sequential_1\"\n",
      "_________________________________________________________________\n",
      "Layer (type)                 Output Shape              Param #   \n",
      "=================================================================\n",
      "lstm_1 (LSTM)                (None, 5)                 140       \n",
      "_________________________________________________________________\n",
      "dense_1 (Dense)              (None, 1)                 6         \n",
      "=================================================================\n",
      "Total params: 146\n",
      "Trainable params: 146\n",
      "Non-trainable params: 0\n",
      "_________________________________________________________________\n"
     ]
    }
   ],
   "source": [
    "model.summary()"
   ]
  },
  {
   "cell_type": "markdown",
   "metadata": {
    "collapsed": true
   },
   "source": [
    "After compiling the model we will now train the model using **model.fit()** on the training dataset. We will use **50 epochs** to train the model. An epoch is an iteration over the entire x and y data provided. **batch_size** is the number of samples per gradient update i.e. the weights will be updates after every training example."
   ]
  },
  {
   "cell_type": "code",
   "execution_count": 66,
   "metadata": {
    "scrolled": true
   },
   "outputs": [
    {
     "name": "stdout",
     "output_type": "stream",
     "text": [
      "Epoch 1/50\n",
      "98/98 [==============================] - 0s 2ms/step - loss: 0.0277\n",
      "Epoch 2/50\n",
      "98/98 [==============================] - 0s 2ms/step - loss: 0.0119\n",
      "Epoch 3/50\n",
      "98/98 [==============================] - 0s 1ms/step - loss: 0.0100\n",
      "Epoch 4/50\n",
      "98/98 [==============================] - 0s 2ms/step - loss: 0.0090\n",
      "Epoch 5/50\n",
      "98/98 [==============================] - 0s 2ms/step - loss: 0.0083\n",
      "Epoch 6/50\n",
      "98/98 [==============================] - 0s 2ms/step - loss: 0.0070\n",
      "Epoch 7/50\n",
      "98/98 [==============================] - 0s 2ms/step - loss: 0.0061\n",
      "Epoch 8/50\n",
      "98/98 [==============================] - 0s 3ms/step - loss: 0.0052\n",
      "Epoch 9/50\n",
      "98/98 [==============================] - 0s 4ms/step - loss: 0.0045\n",
      "Epoch 10/50\n",
      "98/98 [==============================] - 0s 4ms/step - loss: 0.0038\n",
      "Epoch 11/50\n",
      "98/98 [==============================] - 0s 4ms/step - loss: 0.0033\n",
      "Epoch 12/50\n",
      "98/98 [==============================] - 0s 3ms/step - loss: 0.0029\n",
      "Epoch 13/50\n",
      "98/98 [==============================] - 0s 2ms/step - loss: 0.0026\n",
      "Epoch 14/50\n",
      "98/98 [==============================] - 0s 2ms/step - loss: 0.0025\n",
      "Epoch 15/50\n",
      "98/98 [==============================] - 0s 2ms/step - loss: 0.0023\n",
      "Epoch 16/50\n",
      "98/98 [==============================] - 0s 2ms/step - loss: 0.0022\n",
      "Epoch 17/50\n",
      "98/98 [==============================] - 0s 2ms/step - loss: 0.0022\n",
      "Epoch 18/50\n",
      "98/98 [==============================] - 0s 2ms/step - loss: 0.0021\n",
      "Epoch 19/50\n",
      "98/98 [==============================] - 0s 1ms/step - loss: 0.0021\n",
      "Epoch 20/50\n",
      "98/98 [==============================] - 0s 2ms/step - loss: 0.0021\n",
      "Epoch 21/50\n",
      "98/98 [==============================] - 0s 2ms/step - loss: 0.0022\n",
      "Epoch 22/50\n",
      "98/98 [==============================] - 0s 2ms/step - loss: 0.0021\n",
      "Epoch 23/50\n",
      "98/98 [==============================] - 0s 2ms/step - loss: 0.0021\n",
      "Epoch 24/50\n",
      "98/98 [==============================] - 0s 2ms/step - loss: 0.0021\n",
      "Epoch 25/50\n",
      "98/98 [==============================] - 0s 2ms/step - loss: 0.0021\n",
      "Epoch 26/50\n",
      "98/98 [==============================] - 0s 2ms/step - loss: 0.0021\n",
      "Epoch 27/50\n",
      "98/98 [==============================] - 0s 2ms/step - loss: 0.0021\n",
      "Epoch 28/50\n",
      "98/98 [==============================] - 0s 2ms/step - loss: 0.0021\n",
      "Epoch 29/50\n",
      "98/98 [==============================] - 0s 2ms/step - loss: 0.0021\n",
      "Epoch 30/50\n",
      "98/98 [==============================] - 0s 2ms/step - loss: 0.0022\n",
      "Epoch 31/50\n",
      "98/98 [==============================] - 0s 2ms/step - loss: 0.0020\n",
      "Epoch 32/50\n",
      "98/98 [==============================] - 0s 2ms/step - loss: 0.0023\n",
      "Epoch 33/50\n",
      "98/98 [==============================] - 0s 2ms/step - loss: 0.0021\n",
      "Epoch 34/50\n",
      "98/98 [==============================] - 0s 1ms/step - loss: 0.0021\n",
      "Epoch 35/50\n",
      "98/98 [==============================] - 0s 2ms/step - loss: 0.0022\n",
      "Epoch 36/50\n",
      "98/98 [==============================] - 0s 1ms/step - loss: 0.0021\n",
      "Epoch 37/50\n",
      "98/98 [==============================] - 0s 2ms/step - loss: 0.0021\n",
      "Epoch 38/50\n",
      "98/98 [==============================] - 0s 3ms/step - loss: 0.0021\n",
      "Epoch 39/50\n",
      "98/98 [==============================] - 0s 3ms/step - loss: 0.0021\n",
      "Epoch 40/50\n",
      "98/98 [==============================] - 0s 2ms/step - loss: 0.0022\n",
      "Epoch 41/50\n",
      "98/98 [==============================] - 0s 2ms/step - loss: 0.0021\n",
      "Epoch 42/50\n",
      "98/98 [==============================] - 0s 2ms/step - loss: 0.0022\n",
      "Epoch 43/50\n",
      "98/98 [==============================] - 0s 2ms/step - loss: 0.0022\n",
      "Epoch 44/50\n",
      "98/98 [==============================] - 0s 2ms/step - loss: 0.0021\n",
      "Epoch 45/50\n",
      "98/98 [==============================] - 0s 2ms/step - loss: 0.0021\n",
      "Epoch 46/50\n",
      "98/98 [==============================] - 0s 2ms/step - loss: 0.0022\n",
      "Epoch 47/50\n",
      "98/98 [==============================] - 0s 3ms/step - loss: 0.0023\n",
      "Epoch 48/50\n",
      "98/98 [==============================] - 0s 3ms/step - loss: 0.0020\n",
      "Epoch 49/50\n",
      "98/98 [==============================] - 0s 2ms/step - loss: 0.0021\n",
      "Epoch 50/50\n",
      "98/98 [==============================] - 0s 2ms/step - loss: 0.0021\n"
     ]
    },
    {
     "data": {
      "text/plain": [
       "<tensorflow.python.keras.callbacks.History at 0x195b0e41e80>"
      ]
     },
     "execution_count": 66,
     "metadata": {},
     "output_type": "execute_result"
    }
   ],
   "source": [
    "model.fit(X_train, y_train, epochs=50, batch_size=1)"
   ]
  },
  {
   "cell_type": "markdown",
   "metadata": {
    "scrolled": true
   },
   "source": [
    "Now we will test our model using **X_test**."
   ]
  },
  {
   "cell_type": "code",
   "execution_count": 67,
   "metadata": {},
   "outputs": [],
   "source": [
    "y_pred = model.predict(X_test)"
   ]
  },
  {
   "cell_type": "code",
   "execution_count": 68,
   "metadata": {
    "scrolled": true
   },
   "outputs": [
    {
     "data": {
      "text/plain": [
       "array([[0.48569262],\n",
       "       [0.6027654 ],\n",
       "       [0.6739502 ],\n",
       "       [0.67717785],\n",
       "       [0.5719998 ],\n",
       "       [0.47128677],\n",
       "       [0.39449948],\n",
       "       [0.4513535 ],\n",
       "       [0.4586181 ],\n",
       "       [0.41845247],\n",
       "       [0.49823096],\n",
       "       [0.4730918 ],\n",
       "       [0.50001687],\n",
       "       [0.6246393 ],\n",
       "       [0.7153084 ],\n",
       "       [0.7370307 ],\n",
       "       [0.5719998 ],\n",
       "       [0.49286523],\n",
       "       [0.40372938],\n",
       "       [0.45317137],\n",
       "       [0.49465507],\n",
       "       [0.46224356],\n",
       "       [0.5754448 ],\n",
       "       [0.5581551 ],\n",
       "       [0.5993741 ],\n",
       "       [0.6852135 ],\n",
       "       [0.8012978 ],\n",
       "       [0.817139  ],\n",
       "       [0.670715  ],\n",
       "       [0.5771649 ],\n",
       "       [0.49823096],\n",
       "       [0.57372314],\n",
       "       [0.5942741 ],\n",
       "       [0.5494507 ],\n",
       "       [0.59767586],\n",
       "       [0.6674721 ],\n",
       "       [0.6852135 ],\n",
       "       [0.7822609 ],\n",
       "       [0.90318286],\n",
       "       [0.88207984],\n",
       "       [0.7416348 ],\n",
       "       [0.6674721 ]], dtype=float32)"
      ]
     },
     "execution_count": 68,
     "metadata": {},
     "output_type": "execute_result"
    }
   ],
   "source": [
    "y_pred"
   ]
  },
  {
   "cell_type": "markdown",
   "metadata": {},
   "source": [
    "This is the **scaler** value which we had used earlier."
   ]
  },
  {
   "cell_type": "code",
   "execution_count": 69,
   "metadata": {},
   "outputs": [
    {
     "data": {
      "text/plain": [
       "array([0.0019305])"
      ]
     },
     "execution_count": 69,
     "metadata": {},
     "output_type": "execute_result"
    }
   ],
   "source": [
    "scaler.scale_"
   ]
  },
  {
   "cell_type": "markdown",
   "metadata": {},
   "source": [
    "We had scaled down the values in our dataset before passing it to the neural network. Now we will have to get the original values back. For this we will use ***scaler.inverse_transform()***."
   ]
  },
  {
   "cell_type": "code",
   "execution_count": 70,
   "metadata": {},
   "outputs": [],
   "source": [
    "y_pred = scaler.inverse_transform(y_pred)\n",
    "y_test = np.array(y_test)\n",
    "y_test = y_test.reshape(-1, 1)\n",
    "y_test = scaler.inverse_transform(y_test)"
   ]
  },
  {
   "cell_type": "markdown",
   "metadata": {},
   "source": [
    "Now we will visualize the result by plotting the real values and the predicted values."
   ]
  },
  {
   "cell_type": "code",
   "execution_count": 71,
   "metadata": {
    "scrolled": true
   },
   "outputs": [
    {
     "data": {
      "image/png": "[encoded data removed]",
      "text/plain": [
       "<Figure size 1008x360 with 1 Axes>"
      ]
     },
     "metadata": {
      "needs_background": "light"
     },
     "output_type": "display_data"
    }
   ],
   "source": [
    "# plot baseline and predictions\n",
    "plt.figure(figsize=(14,5))\n",
    "plt.plot(y_test, label = 'Real number of passengers')\n",
    "plt.plot(y_pred, label = 'Predicted number of passengers')\n",
    "plt.ylabel('# passengers')\n",
    "plt.legend()\n",
    "plt.show()"
   ]
  },
  {
   "cell_type": "markdown",
   "metadata": {},
   "source": [
    "As we can see that the actual results and the predicted results are following the same trend. Our model is predicting the number of passengers with a good accuracy."
   ]
  }
 ],
 "metadata": {
  "kernelspec": {
   "display_name": "Python 3",
   "language": "python",
   "name": "python3"
  },
  "language_info": {
   "codemirror_mode": {
    "name": "ipython",
    "version": 3
   },
   "file_extension": ".py",
   "mimetype": "text/x-python",
   "name": "python",
   "nbconvert_exporter": "python",
   "pygments_lexer": "ipython3",
   "version": "3.8.3"
  }
 },
 "nbformat": 4,
 "nbformat_minor": 4
}
